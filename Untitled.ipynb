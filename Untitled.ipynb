{
 "cells": [
  {
   "cell_type": "code",
   "execution_count": 1,
   "metadata": {},
   "outputs": [
    {
     "name": "stdout",
     "output_type": "stream",
     "text": [
      " Volume in drive C is OSDisk\n",
      " Volume Serial Number is 68EE-571C\n",
      "\n",
      " Directory of C:\\Users\\vavashishtha\\OneDrive - PayPal\\Python_Oracle\n",
      "\n",
      "01/23/2019  04:44 PM    <DIR>          .\n",
      "01/23/2019  04:44 PM    <DIR>          ..\n",
      "01/23/2019  04:44 PM    <DIR>          .ipynb_checkpoints\n",
      "11/14/2018  06:01 PM               273 connection\n",
      "01/23/2019  04:27 PM             1,115 connection.py\n",
      "01/23/2019  04:44 PM                72 Untitled.ipynb\n",
      "               3 File(s)          1,460 bytes\n",
      "               3 Dir(s)  318,187,651,072 bytes free\n"
     ]
    }
   ],
   "source": [
    "ls\n",
    "\n"
   ]
  },
  {
   "cell_type": "code",
   "execution_count": 2,
   "metadata": {},
   "outputs": [
    {
     "ename": "FileNotFoundError",
     "evalue": "[Errno 2] No such file or directory: 'newfile.txt'",
     "output_type": "error",
     "traceback": [
      "\u001b[1;31m---------------------------------------------------------------------------\u001b[0m",
      "\u001b[1;31mFileNotFoundError\u001b[0m                         Traceback (most recent call last)",
      "\u001b[1;32m<ipython-input-2-7795e8ddc924>\u001b[0m in \u001b[0;36m<module>\u001b[1;34m()\u001b[0m\n\u001b[1;32m----> 1\u001b[1;33m \u001b[0merrorfile\u001b[0m\u001b[1;33m=\u001b[0m \u001b[0mopen\u001b[0m\u001b[1;33m(\u001b[0m\u001b[1;34m\"newfile.txt\"\u001b[0m\u001b[1;33m)\u001b[0m\u001b[1;33m\u001b[0m\u001b[0m\n\u001b[0m",
      "\u001b[1;31mFileNotFoundError\u001b[0m: [Errno 2] No such file or directory: 'newfile.txt'"
     ]
    }
   ],
   "source": [
    "errorfile= open(\"newfile.txt\")"
   ]
  },
  {
   "cell_type": "code",
   "execution_count": 5,
   "metadata": {},
   "outputs": [
    {
     "data": {
      "text/plain": [
       "<function TextIOWrapper.read(size=-1, /)>"
      ]
     },
     "execution_count": 5,
     "metadata": {},
     "output_type": "execute_result"
    }
   ],
   "source": [
    "myfile=open('connection')\n",
    "myfile.read"
   ]
  },
  {
   "cell_type": "code",
   "execution_count": null,
   "metadata": {},
   "outputs": [],
   "source": [
    "myfile.read()"
   ]
  },
  {
   "cell_type": "code",
   "execution_count": 8,
   "metadata": {},
   "outputs": [
    {
     "data": {
      "text/plain": [
       "['import cx_Oracle\\n',\n",
       " '\\n',\n",
       " \"conn_str = u'etlapp/etlappstg@lvsspldb16.qa.paypal.com:2127/QADBAA9O'\\n\",\n",
       " 'conn = cx_Oracle.connect(conn_str)\\n',\n",
       " 'c = conn.cursor()\\n',\n",
       " 'print(conn.version.split(\".\"))\\n',\n",
       " \"c.execute(u'select * from persons')\\n\",\n",
       " 'for row in c:\\n',\n",
       " '    print row[0], \"-\", row[1]\\n',\n",
       " 'conn.close()']"
      ]
     },
     "execution_count": 8,
     "metadata": {},
     "output_type": "execute_result"
    }
   ],
   "source": [
    "myfile.seek(0)\n",
    "myfile.readlines()\n"
   ]
  },
  {
   "cell_type": "code",
   "execution_count": null,
   "metadata": {},
   "outputs": [],
   "source": []
  }
 ],
 "metadata": {
  "kernelspec": {
   "display_name": "Python 3",
   "language": "python",
   "name": "python3"
  },
  "language_info": {
   "codemirror_mode": {
    "name": "ipython",
    "version": 3
   },
   "file_extension": ".py",
   "mimetype": "text/x-python",
   "name": "python",
   "nbconvert_exporter": "python",
   "pygments_lexer": "ipython3",
   "version": "3.6.5"
  }
 },
 "nbformat": 4,
 "nbformat_minor": 2
}
