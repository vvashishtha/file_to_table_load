{
 "cells": [
  {
   "cell_type": "code",
   "execution_count": 28,
   "metadata": {},
   "outputs": [
    {
     "name": "stdout",
     "output_type": "stream",
     "text": [
      "Case Number                             335413\n",
      "Case Record Type              MyHR Closed Case\n",
      "Requester Type                Candidate – Past\n",
      "Extract_ID                        201903140001\n",
      "Row_Insert_TS       2019-03-14 14:35:50.969113\n",
      "NaN                                        NaN\n",
      "Source_Row_Seq                           30112\n",
      "Name: 30111, dtype: object\n"
     ]
    }
   ],
   "source": [
    "import sys\n",
    "import cx_Oracle \n",
    "import pandas as pd\n",
    "import datetime\n",
    "\n",
    "\n",
    "#reload(sys)\n",
    "#sys.setdefaultencoding('utf-8') \n",
    "\n",
    "\n",
    "file_name ='SampleFile1_ORG.csv'\n",
    "Target_Table_name = 'vaibhav'\n",
    "Mapping_name= 'Mapping.csv'\n",
    "\n",
    "\n",
    "now = datetime.datetime.now()\n",
    "Prepared_date=str(now.strftime(\"%Y%m%d\"))+'0001'\n",
    "#df_excel = pd.read_csv(file_name,keep_default_na=False)\n",
    "#df_excel = pd.read_csv(file_name,keep_default_na=False,encoding='ISO-8859-1')\n",
    "df_excel = pd.read_csv(file_name,keep_default_na=False,encoding='cp1252')\n",
    "df_Mapping=pd.read_csv(Mapping_name)\n",
    "df_excel['Extract_ID']=Prepared_date\n",
    "df_excel['Row_Insert_TS']=now\n",
    "df_excel['NaN']=float('NAN')\n",
    "df_excel['Source_Row_Seq'] = range(1, 1+len(df_excel))\n",
    "Excel_column_list=list(df_excel)\n",
    "#Source_Column_Name=df_Mapping['Source_Column_Name'].tolist()\n",
    "#Table_Column_Name=df_Mapping['Table_Column_Name'].tolist()\n",
    "print(df_excel.loc[30111])"
   ]
  },
  {
   "cell_type": "code",
   "execution_count": 11,
   "metadata": {},
   "outputs": [
    {
     "name": "stdout",
     "output_type": "stream",
     "text": [
      "Case Number                             335413\n",
      "Case Record Type              MyHR Closed Case\n",
      "Requester Type                Candidate  Past\n",
      "Extract_ID                        201903140001\n",
      "Row_Insert_TS       2019-03-14 13:30:08.622748\n",
      "NaN                                        NaN\n",
      "Source_Row_Seq                           30112\n",
      "Name: 30111, dtype: object\n"
     ]
    }
   ],
   "source": [
    "print(df_excel.loc[30111])"
   ]
  },
  {
   "cell_type": "code",
   "execution_count": null,
   "metadata": {},
   "outputs": [],
   "source": []
  }
 ],
 "metadata": {
  "kernelspec": {
   "display_name": "Python 3",
   "language": "python",
   "name": "python3"
  },
  "language_info": {
   "codemirror_mode": {
    "name": "ipython",
    "version": 3
   },
   "file_extension": ".py",
   "mimetype": "text/x-python",
   "name": "python",
   "nbconvert_exporter": "python",
   "pygments_lexer": "ipython3",
   "version": "3.6.5"
  }
 },
 "nbformat": 4,
 "nbformat_minor": 2
}
